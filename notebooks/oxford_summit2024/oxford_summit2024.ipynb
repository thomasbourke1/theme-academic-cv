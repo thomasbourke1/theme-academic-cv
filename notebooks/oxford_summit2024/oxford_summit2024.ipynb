{
 "cells": [
  {
   "cell_type": "markdown",
   "metadata": {},
   "source": [
    "# Oxford University Physics Summit 2024"
   ]
  },
  {
   "cell_type": "markdown",
   "metadata": {},
   "source": [
    "I am thrilled to share my recent adventure at the 2024 Oxford Physics Summit – a mind-blowing fusion of cutting-edge research, spirited discussions, and endless inspiration!\n",
    "\n",
    "This event was organised by the Oxford University Physics Society, and marks the event first of it's kind connecting aspiring young physicists across the United Kingdom. I attended talks and workshops from estemed speakers Prof Alexander Lvovsky and Dr. Ali Yildirim, and was delighted attend the closing talk by Sir Roger Penrose (2020 Nobel Prize winner), who is a personal inspiration for me.\n",
    "\n",
    "A huge shoutout to the organizers, sponsors, and everyone who contributed to making this summit a resounding success! Your hard work and dedication to advancing the field of physics have left an indelible mark."
   ]
  },
  {
   "cell_type": "markdown",
   "metadata": {},
   "source": [
    "<div style=\"display: grid; grid-template-columns: repeat(3, 1fr); gap: 10px;\">\n",
    "    <img src=\"1709487863190.jpg\" alt=\"Photo 1\">\n",
    "    <img src=\"1709487863965.jpg\" alt=\"Photo 2\">\n",
    "    <img src=\"1709487864209.jpg\" alt=\"Photo 3\">\n",
    "    <img src=\"1709487866095.jpg\" alt=\"Photo 4\">\n",
    "    <img src=\"1709487869661.jpg\" alt=\"Photo 5\">\n",
    "</div>"
   ]
  },
  {
   "cell_type": "code",
   "execution_count": null,
   "metadata": {
    "vscode": {
     "languageId": "plaintext"
    }
   },
   "outputs": [],
   "source": []
  }
 ],
 "metadata": {
  "language_info": {
   "name": "python"
  }
 },
 "nbformat": 4,
 "nbformat_minor": 2
}
