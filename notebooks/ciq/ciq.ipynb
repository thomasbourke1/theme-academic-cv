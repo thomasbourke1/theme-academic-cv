{
 "cells": [
  {
   "cell_type": "markdown",
   "metadata": {},
   "source": [
    "# Careers in Quantum 2024"
   ]
  },
  {
   "cell_type": "markdown",
   "metadata": {},
   "source": [
    "🌟 I am lucky to have recently attended the 2024 Careers in Quantum networking event, run by the Quantum Engineering Centre for Doctoral Training in collaboration with IOP Publishing and National Quantum Computing Centre (NQCC) 🌟\n",
    "\n",
    "It was a great opportunity to connect with industry professionals and learn about the latest developments in quantum computing, cryptography, and integrated photonics. \n",
    "\n",
    "Looking forward to continuing my academic journey and learning more about the exciting opportunities that await!"
   ]
  },
  {
   "cell_type": "markdown",
   "metadata": {},
   "source": [
    "![Alt Text](1710529636583.jpg)"
   ]
  }
 ],
 "metadata": {
  "language_info": {
   "name": "python"
  }
 },
 "nbformat": 4,
 "nbformat_minor": 2
}
